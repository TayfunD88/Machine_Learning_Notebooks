{
 "cells": [
  {
   "cell_type": "markdown",
   "metadata": {},
   "source": [
    "# KNeighborsClassifier\n",
    "\n",
    "Dieses Notebook beschäftigt sich mit dem Klassifikator, der das Votum für 'k-nearest neighbors' implementiert. Angewandt wird dieser Algorithmus auf den MNIST Datensatz, welcher in Summer aus 70.000 handgeschriebenen Ziffern von 0 bis 9 besteht. Diese Bilder sind jeweils in einem 28x28 Pixelformat hinterlegt.\n",
    "\n",
    "Der Datensatz wird über die Website vom Prof. Yann LeCun bereitgestellt. Zusätzlich findet ihr dort Anweisungen, wie sein custom-file-format 'ubyte' gelesen werden kann.\n",
    "http://yann.lecun.com/exdb/mnist/\n",
    "\n",
    "Der Datensatz wird gesplittet in 60.000 Trainingsdaten und 10.000 Testdaten.\n",
    "\n",
    "## Lesen des MNIST Datensatzes"
   ]
  },
  {
   "cell_type": "code",
   "execution_count": 3,
   "metadata": {},
   "outputs": [],
   "source": [
    "import numpy as np\n",
    "import requests\n",
    "import gzip\n",
    "import os\n",
    "import hashlib\n",
    "\n",
    "# Fetch data function (Function to read/write external data like MNIST dataset)\n",
    "def fetch(file_name):\n",
    "  if os.path.isfile(file_name):\n",
    "    with open(file_name, \"rb\") as f:\n",
    "      dat = f.read()\n",
    "  else:\n",
    "    with open(file_name, \"wb\") as f:\n",
    "      dat = requests.get(file_name).content\n",
    "      f.write(dat)\n",
    "  return np.frombuffer(gzip.decompress(dat), dtype=np.uint8).copy()"
   ]
  },
  {
   "cell_type": "code",
   "execution_count": 5,
   "metadata": {},
   "outputs": [],
   "source": [
    "# Read MNIST Dataset\n",
    "# MNIST dataset consists of four files\n",
    "mnist_files = {\n",
    "\t0 : \"train-images-idx3-ubyte.gz\",   # large train set images    60.000 img\n",
    "\t1 : \"train-labels-idx1-ubyte.gz\",   # large label set           60.008 lbl\n",
    "\t2 : \"t10k-images-idx3-ubyte.gz\",    # small train set images    10.000 img\n",
    "\t3 : \"t10k-labels-idx1-ubyte.gz\"     # small label set           10.008 lbl\n",
    "\t}\n",
    "\n",
    "# All data will be written in X_and_Y in first place\n",
    "X_and_y = []\n",
    "\n",
    "# Reading MNIST dataset\n",
    "for i, file in mnist_files.items():\n",
    "\tif i == 0 or i == 2:\n",
    "\t\tX_and_y.append(i)\n",
    "\t\t# https://stackoverflow.com/questions/16405354/python-confused-by-if-statement-if-bits0x20-0x20\n",
    "\t\t# Reshape\n",
    "\t\t# Each image consists of 784 pixels\n",
    "\t\t# \t=> 28 pixels in x-axis and 28 pixels in y-axis \n",
    "\t\tX_and_y[i] = fetch(file)[0x10:].reshape((-1, 784))\n",
    "\telse:\n",
    "\t\tX_and_y.append(i)\n",
    "\t\t# Reducing the dataset from 60.008/10.008 to flat 60.000/10.000\n",
    "\t\t# The first lines are irrelevant due to the documentation from Lecun\n",
    "\t\tX_and_y[i] = fetch(file)[8:]\n",
    "\n",
    "# Generate four variables\n",
    "X_train, y_train, X_test, y_test = X_and_y"
   ]
  },
  {
   "cell_type": "code",
   "execution_count": 6,
   "metadata": {},
   "outputs": [
    {
     "name": "stdout",
     "output_type": "stream",
     "text": [
      "SHAPES von Trainingsdaten und Testdaten:\n",
      "X_train: (60000, 784)\n",
      "y_train: (60000,)\n",
      "X_test:  (10000, 784)\n",
      "y_test:  (10000,)\n"
     ]
    }
   ],
   "source": [
    "print(\"SHAPES von Trainingsdaten und Testdaten:\")\n",
    "print(\"X_train:\",X_train.shape)\n",
    "print(\"y_train:\",y_train.shape)\n",
    "print(\"X_test: \",X_test.shape)\n",
    "print(\"y_test: \",y_test.shape)"
   ]
  },
  {
   "cell_type": "markdown",
   "metadata": {},
   "source": [
    "In der folgenden Abbildung wird exemplarisch die erste Zahl aus dem Trainingsdatensatz dargestellt. Dabei ist zu beachten, dass die Dimension von 784 auf die 28x28 angepasst werden muss. Durch die Axen in der Abbildung wird verdeutlicht, dass das Bild eine Größe von 28x28 Pixeln hat. Jede dieser Zellen enthält die Information über den Füllwert, welche hier aus uint8 Datentypen bestehen. Dementsprechend kann jeder Zellwert einen Wertebereich von 0 bis 255 enthalten. Somit beschreibt die 0 einen weißen und 255 einen schwarzen Pixel. Zwischenwerte ergeben sich demzufolge in einer Graustufe."
   ]
  },
  {
   "cell_type": "code",
   "execution_count": 7,
   "metadata": {},
   "outputs": [
    {
     "name": "stdout",
     "output_type": "stream",
     "text": [
      "Dargestelltes Bild zeigt die Ziffer: 5\n"
     ]
    },
    {
     "data": {
      "image/png": "[encoded data removed]",
      "text/plain": [
       "<Figure size 432x288 with 1 Axes>"
      ]
     },
     "metadata": {
      "needs_background": "light"
     },
     "output_type": "display_data"
    }
   ],
   "source": [
    "# Import notwendiger Bibliotheken für das Plotten\n",
    "import matplotlib.pyplot as plt\n",
    "from matplotlib import projections\n",
    "from matplotlib.pyplot import axis, savefig\n",
    "# Bild der ersten Ziffer aus dem Trainingsdatensatz\n",
    "first_image = X_train[0]\n",
    "first_image_reshaped = first_image.reshape(28,28)\n",
    "plt.imshow(first_image_reshaped, cmap='binary')\n",
    "print(\"Dargestelltes Bild zeigt die Ziffer:\",y_train[0])"
   ]
  },
  {
   "cell_type": "markdown",
   "metadata": {},
   "source": [
    "## PCA (Principled Componend Analysis) Komprimierungsverfahren\n",
    "\n",
    "Im nächsten Schritt ist das Ziel die Anzahl von 784 Features zu reduzieren. Die Reduzierung der Dimensionen kann zu einem Performance-Boost führen bei der Berücksichtigung des gesamten Trainings-Datensatzes.\n",
    "\n",
    "Die Erklärte Varianz wird auf 98 % festgelegt, um die reduzierte Anzahl an Dimensionen vorab zu bestimmen."
   ]
  },
  {
   "cell_type": "code",
   "execution_count": 8,
   "metadata": {},
   "outputs": [
    {
     "name": "stdout",
     "output_type": "stream",
     "text": [
      "Dimenionen reduziert von 784 auf 261\n"
     ]
    }
   ],
   "source": [
    "# Import notwendiger Bibliotheken für die PCA\n",
    "from sklearn.decomposition import PCA\n",
    "\n",
    "erlaerte_varianz = 0.98\n",
    "\n",
    "pca = PCA()\n",
    "X_reduced = pca.fit(X_train)\n",
    "cumsum = np.cumsum(pca.explained_variance_ratio_)\n",
    "amount_dims_red = np.argmax(cumsum >= erlaerte_varianz) + 1\n",
    "\n",
    "print(\"Dimenionen reduziert von 784 auf\", amount_dims_red)"
   ]
  },
  {
   "cell_type": "markdown",
   "metadata": {},
   "source": [
    "Der Bezug zwischen Erklärter Varianz und der Anzahl an Dimensionen lässt sich anhand eines Diagramms visuell veranschaulichen."
   ]
  },
  {
   "cell_type": "code",
   "execution_count": 9,
   "metadata": {},
   "outputs": [
    {
     "data": {
      "text/plain": [
       "Text(0, 0.5, 'Erklärte Varianz')"
      ]
     },
     "execution_count": 9,
     "metadata": {},
     "output_type": "execute_result"
    },
    {
     "data": {
      "image/png": "[encoded data removed]",
      "text/plain": [
       "<Figure size 432x288 with 1 Axes>"
      ]
     },
     "metadata": {
      "needs_background": "light"
     },
     "output_type": "display_data"
    }
   ],
   "source": [
    "# Plot: Erklärte Varianz über Dimensionen\n",
    "plt.figure(figsize=(6,4))\n",
    "plt.plot(cumsum, linewidth=3)\n",
    "plt.grid(True)\n",
    "plt.axis([0, 400, 0, 1])\n",
    "plt.xlabel(\"Dimensionen\")\n",
    "plt.ylabel(\"Erklärte Varianz\")"
   ]
  },
  {
   "cell_type": "markdown",
   "metadata": {},
   "source": [
    "Nun kann diese ermittelte reduzierte Anzahl an Dimensionen als Eingangsparameter in der PCA verwendet werden.\n",
    "\n",
    "Den reduzierten Datensatz auf die ursprüngliche Form ist ebenfalls möglich, jedoch in diesem Notebook irrelevante und wird daher nicht näher darauf eingegangen."
   ]
  },
  {
   "cell_type": "code",
   "execution_count": 10,
   "metadata": {},
   "outputs": [
    {
     "name": "stdout",
     "output_type": "stream",
     "text": [
      "X_reduced shape:  (60000, 261)\n"
     ]
    }
   ],
   "source": [
    "pca = PCA(n_components=amount_dims_red)\n",
    "X_reduced = pca.fit_transform(X_train)\n",
    "print(\"X_reduced shape: \", X_reduced.shape)"
   ]
  },
  {
   "cell_type": "markdown",
   "metadata": {},
   "source": [
    "## Überprüfung der Verteilung der Ziffern von 0-9 im Datensatz\n",
    "\n",
    "In diesem Abschnitt stellen wir uns die Frage, wie die Ziffern von 0 bis 9 im Trainingsdatensatz von der Menge her verteilt sind.\n",
    "\n",
    "Aus dem folgenden Codeausschnitt wird deutlich, dass eine relativ gut homogene Verteilung der Ziffern 0 bis 9 vorliegt. Demzufolge ist an dieser Stelle keine weitere Parametrisierung und zusätzliche Gewichtigsverteilung notwendig."
   ]
  },
  {
   "cell_type": "code",
   "execution_count": 11,
   "metadata": {},
   "outputs": [
    {
     "name": "stdout",
     "output_type": "stream",
     "text": [
      "Verteilung der Ziffern 0 bis 9 in den 60.000 Traininszeilen 60000 :\n",
      " [5923 6742 5958 6131 5842 5421 5918 6265 5851 5949]\n",
      "Prozentuale Verteilung der Ziffern 0 bis 9 aus dem Trainingsdatensatz:\n",
      " [ 9.9 11.2  9.9 10.2  9.7  9.   9.9 10.4  9.8  9.9]\n"
     ]
    }
   ],
   "source": [
    "amount_of_each_digit = np.zeros(10).astype(int)\n",
    "\n",
    "for k in range(len(amount_of_each_digit)):\n",
    "    for i in range(len(y_train)):\n",
    "        if y_train[i] == k:\n",
    "            amount_of_each_digit[k] = amount_of_each_digit[k] + 1\n",
    "\n",
    "print(\"Verteilung der Ziffern 0 bis 9 in den 60.000 Traininszeilen\",\n",
    "\tlen(X_train),\":\\n\",amount_of_each_digit)\n",
    "\n",
    "amount_of_each_digit_percantage = np.round(amount_of_each_digit/len(X_train)*100,1)\n",
    "\n",
    "print(\"Prozentuale Verteilung der Ziffern 0 bis 9 aus dem Trainingsdatensatz:\\n\",\n",
    "    amount_of_each_digit_percantage)"
   ]
  },
  {
   "cell_type": "markdown",
   "metadata": {},
   "source": [
    "## GirdSearch\n",
    "\n",
    "Um die besten Hyperparameter in Kombination für den 'kNeighbors Classifier' zu finden wird hier die Klasse 'GridSearchCV' von Scikit-Learn verwendet."
   ]
  },
  {
   "cell_type": "code",
   "execution_count": 13,
   "metadata": {},
   "outputs": [
    {
     "name": "stdout",
     "output_type": "stream",
     "text": [
      "{'cv': None, 'error_score': nan, 'estimator__algorithm': 'auto', 'estimator__leaf_size': 30, 'estimator__metric': 'minkowski', 'estimator__metric_params': None, 'estimator__n_jobs': None, 'estimator__n_neighbors': 5, 'estimator__p': 2, 'estimator__weights': 'uniform', 'estimator': KNeighborsClassifier(), 'n_jobs': None, 'param_grid': {'n_neighbors': [1, 5], 'leaf_size': [10, 30, 50], 'p': [1, 2]}, 'pre_dispatch': '2*n_jobs', 'refit': True, 'return_train_score': False, 'scoring': None, 'verbose': 0}\n",
      "{'best_estimator_': KNeighborsClassifier(leaf_size=10, n_neighbors=1),\n",
      " 'best_index_': 1,\n",
      " 'best_params_': {'leaf_size': 10, 'n_neighbors': 1, 'p': 2},\n",
      " 'best_score_': 0.9702500000000001,\n",
      " 'cv': None,\n",
      " 'cv_results_': {'mean_fit_time': array([0.03584228, 0.03653326, 0.03633142, 0.03659787, 0.03591051,\n",
      "       0.03592043, 0.03634329, 0.03542433, 0.03561406, 0.03569722,\n",
      "       0.0356411 , 0.03558583]),\n",
      "                 'mean_score_time': array([10.70060859,  1.47262444,  9.98340473,  1.24753256, 10.62079353,\n",
      "        1.24621377,  9.95333009,  1.28054914,  9.86304011,  1.24916182,\n",
      "        9.88230762,  1.27447047]),\n",
      "                 'mean_test_score': array([0.95683333, 0.97025   , 0.95578333, 0.96996667, 0.95683333,\n",
      "       0.97025   , 0.95578333, 0.96996667, 0.95683333, 0.97025   ,\n",
      "       0.95578333, 0.96996667]),\n",
      "                 'param_leaf_size': masked_array(data=[10, 10, 10, 10, 30, 30, 30, 30, 50, 50, 50, 50],\n",
      "             mask=[False, False, False, False, False, False, False, False,\n",
      "                   False, False, False, False],\n",
      "       fill_value='?',\n",
      "            dtype=object),\n",
      "                 'param_n_neighbors': masked_array(data=[1, 1, 5, 5, 1, 1, 5, 5, 1, 1, 5, 5],\n",
      "             mask=[False, False, False, False, False, False, False, False,\n",
      "                   False, False, False, False],\n",
      "       fill_value='?',\n",
      "            dtype=object),\n",
      "                 'param_p': masked_array(data=[1, 2, 1, 2, 1, 2, 1, 2, 1, 2, 1, 2],\n",
      "             mask=[False, False, False, False, False, False, False, False,\n",
      "                   False, False, False, False],\n",
      "       fill_value='?',\n",
      "            dtype=object),\n",
      "                 'params': [{'leaf_size': 10, 'n_neighbors': 1, 'p': 1},\n",
      "                            {'leaf_size': 10, 'n_neighbors': 1, 'p': 2},\n",
      "                            {'leaf_size': 10, 'n_neighbors': 5, 'p': 1},\n",
      "                            {'leaf_size': 10, 'n_neighbors': 5, 'p': 2},\n",
      "                            {'leaf_size': 30, 'n_neighbors': 1, 'p': 1},\n",
      "                            {'leaf_size': 30, 'n_neighbors': 1, 'p': 2},\n",
      "                            {'leaf_size': 30, 'n_neighbors': 5, 'p': 1},\n",
      "                            {'leaf_size': 30, 'n_neighbors': 5, 'p': 2},\n",
      "                            {'leaf_size': 50, 'n_neighbors': 1, 'p': 1},\n",
      "                            {'leaf_size': 50, 'n_neighbors': 1, 'p': 2},\n",
      "                            {'leaf_size': 50, 'n_neighbors': 5, 'p': 1},\n",
      "                            {'leaf_size': 50, 'n_neighbors': 5, 'p': 2}],\n",
      "                 'rank_test_score': array([ 7,  1, 10,  4,  7,  1, 10,  4,  7,  1, 10,  4]),\n",
      "                 'split0_test_score': array([0.95533333, 0.97083333, 0.95591667, 0.97058333, 0.95533333,\n",
      "       0.97083333, 0.95591667, 0.97058333, 0.95533333, 0.97083333,\n",
      "       0.95591667, 0.97058333]),\n",
      "                 'split1_test_score': array([0.959     , 0.97225   , 0.95691667, 0.97141667, 0.959     ,\n",
      "       0.97225   , 0.95691667, 0.97141667, 0.959     , 0.97225   ,\n",
      "       0.95691667, 0.97141667]),\n",
      "                 'split2_test_score': array([0.95308333, 0.96825   , 0.95566667, 0.96908333, 0.95308333,\n",
      "       0.96825   , 0.95566667, 0.96908333, 0.95308333, 0.96825   ,\n",
      "       0.95566667, 0.96908333]),\n",
      "                 'split3_test_score': array([0.9585    , 0.96966667, 0.95258333, 0.96858333, 0.9585    ,\n",
      "       0.96966667, 0.95258333, 0.96858333, 0.9585    , 0.96966667,\n",
      "       0.95258333, 0.96858333]),\n",
      "                 'split4_test_score': array([0.95825   , 0.97025   , 0.95783333, 0.97016667, 0.95825   ,\n",
      "       0.97025   , 0.95783333, 0.97016667, 0.95825   , 0.97025   ,\n",
      "       0.95783333, 0.97016667]),\n",
      "                 'std_fit_time': array([0.00111893, 0.00132196, 0.00106439, 0.0014548 , 0.00125715,\n",
      "       0.00108669, 0.00066348, 0.00043908, 0.00094693, 0.00084063,\n",
      "       0.00082696, 0.00052035]),\n",
      "                 'std_score_time': array([0.30515814, 0.13814012, 0.0864642 , 0.0131736 , 0.90614464,\n",
      "       0.01235126, 0.0650037 , 0.03401627, 0.05097827, 0.00933286,\n",
      "       0.07708867, 0.01795562]),\n",
      "                 'std_test_score': array([0.0022712 , 0.00131762, 0.00177529, 0.00102144, 0.0022712 ,\n",
      "       0.00131762, 0.00177529, 0.00102144, 0.0022712 , 0.00131762,\n",
      "       0.00177529, 0.00102144])},\n",
      " 'error_score': nan,\n",
      " 'estimator': KNeighborsClassifier(),\n",
      " 'multimetric_': False,\n",
      " 'n_jobs': None,\n",
      " 'n_splits_': 5,\n",
      " 'param_grid': {'leaf_size': [10, 30, 50], 'n_neighbors': [1, 5], 'p': [1, 2]},\n",
      " 'pre_dispatch': '2*n_jobs',\n",
      " 'refit': True,\n",
      " 'refit_time_': 0.0388944149017334,\n",
      " 'return_train_score': False,\n",
      " 'scorer_': <function _passthrough_scorer at 0x000001B36AEEF1C0>,\n",
      " 'scoring': None,\n",
      " 'verbose': 0}\n"
     ]
    }
   ],
   "source": [
    "# Import notwendiger Bibliotheken\n",
    "from sklearn.model_selection import GridSearchCV\n",
    "from sklearn.neighbors import KNeighborsClassifier\n",
    "\n",
    "param_grid = {'n_neighbors':[1,5], 'leaf_size':[10,30,50], 'p':[1,2]}\n",
    "clf = KNeighborsClassifier()\n",
    "knn_clf = GridSearchCV(clf, param_grid=param_grid)\n",
    "print(knn_clf.get_params())\n",
    "knn_clf.fit(X_reduced, y_train)\n",
    "from pprint import pprint\n",
    "pprint(vars(knn_clf))"
   ]
  },
  {
   "cell_type": "markdown",
   "metadata": {},
   "source": [
    "Wir erhalten somit die Information, dass mit 'n_neighbors': 1, 'leaf_size': 10 und der Minkowski Metrik 'p': 2 der beste Scrore erzielt werden kann."
   ]
  },
  {
   "cell_type": "code",
   "execution_count": 14,
   "metadata": {},
   "outputs": [
    {
     "data": {
      "text/html": [
       "<style>#sk-container-id-1 {color: black;background-color: white;}#sk-container-id-1 pre{padding: 0;}#sk-container-id-1 div.sk-toggleable {background-color: white;}#sk-container-id-1 label.sk-toggleable__label {cursor: pointer;display: block;width: 100%;margin-bottom: 0;padding: 0.3em;box-sizing: border-box;text-align: center;}#sk-container-id-1 label.sk-toggleable__label-arrow:before {content: \"▸\";float: left;margin-right: 0.25em;color: #696969;}#sk-container-id-1 label.sk-toggleable__label-arrow:hover:before {color: black;}#sk-container-id-1 div.sk-estimator:hover label.sk-toggleable__label-arrow:before {color: black;}#sk-container-id-1 div.sk-toggleable__content {max-height: 0;max-width: 0;overflow: hidden;text-align: left;background-color: #f0f8ff;}#sk-container-id-1 div.sk-toggleable__content pre {margin: 0.2em;color: black;border-radius: 0.25em;background-color: #f0f8ff;}#sk-container-id-1 input.sk-toggleable__control:checked~div.sk-toggleable__content {max-height: 200px;max-width: 100%;overflow: auto;}#sk-container-id-1 input.sk-toggleable__control:checked~label.sk-toggleable__label-arrow:before {content: \"▾\";}#sk-container-id-1 div.sk-estimator input.sk-toggleable__control:checked~label.sk-toggleable__label {background-color: #d4ebff;}#sk-container-id-1 div.sk-label input.sk-toggleable__control:checked~label.sk-toggleable__label {background-color: #d4ebff;}#sk-container-id-1 input.sk-hidden--visually {border: 0;clip: rect(1px 1px 1px 1px);clip: rect(1px, 1px, 1px, 1px);height: 1px;margin: -1px;overflow: hidden;padding: 0;position: absolute;width: 1px;}#sk-container-id-1 div.sk-estimator {font-family: monospace;background-color: #f0f8ff;border: 1px dotted black;border-radius: 0.25em;box-sizing: border-box;margin-bottom: 0.5em;}#sk-container-id-1 div.sk-estimator:hover {background-color: #d4ebff;}#sk-container-id-1 div.sk-parallel-item::after {content: \"\";width: 100%;border-bottom: 1px solid gray;flex-grow: 1;}#sk-container-id-1 div.sk-label:hover label.sk-toggleable__label {background-color: #d4ebff;}#sk-container-id-1 div.sk-serial::before {content: \"\";position: absolute;border-left: 1px solid gray;box-sizing: border-box;top: 0;bottom: 0;left: 50%;z-index: 0;}#sk-container-id-1 div.sk-serial {display: flex;flex-direction: column;align-items: center;background-color: white;padding-right: 0.2em;padding-left: 0.2em;position: relative;}#sk-container-id-1 div.sk-item {position: relative;z-index: 1;}#sk-container-id-1 div.sk-parallel {display: flex;align-items: stretch;justify-content: center;background-color: white;position: relative;}#sk-container-id-1 div.sk-item::before, #sk-container-id-1 div.sk-parallel-item::before {content: \"\";position: absolute;border-left: 1px solid gray;box-sizing: border-box;top: 0;bottom: 0;left: 50%;z-index: -1;}#sk-container-id-1 div.sk-parallel-item {display: flex;flex-direction: column;z-index: 1;position: relative;background-color: white;}#sk-container-id-1 div.sk-parallel-item:first-child::after {align-self: flex-end;width: 50%;}#sk-container-id-1 div.sk-parallel-item:last-child::after {align-self: flex-start;width: 50%;}#sk-container-id-1 div.sk-parallel-item:only-child::after {width: 0;}#sk-container-id-1 div.sk-dashed-wrapped {border: 1px dashed gray;margin: 0 0.4em 0.5em 0.4em;box-sizing: border-box;padding-bottom: 0.4em;background-color: white;}#sk-container-id-1 div.sk-label label {font-family: monospace;font-weight: bold;display: inline-block;line-height: 1.2em;}#sk-container-id-1 div.sk-label-container {text-align: center;}#sk-container-id-1 div.sk-container {/* jupyter's `normalize.less` sets `[hidden] { display: none; }` but bootstrap.min.css set `[hidden] { display: none !important; }` so we also need the `!important` here to be able to override the default hidden behavior on the sphinx rendered scikit-learn.org. See: https://github.com/scikit-learn/scikit-learn/issues/21755 */display: inline-block !important;position: relative;}#sk-container-id-1 div.sk-text-repr-fallback {display: none;}</style><div id=\"sk-container-id-1\" class=\"sk-top-container\"><div class=\"sk-text-repr-fallback\"><pre>KNeighborsClassifier(leaf_size=10, n_neighbors=1)</pre><b>In a Jupyter environment, please rerun this cell to show the HTML representation or trust the notebook. <br />On GitHub, the HTML representation is unable to render, please try loading this page with nbviewer.org.</b></div><div class=\"sk-container\" hidden><div class=\"sk-item\"><div class=\"sk-estimator sk-toggleable\"><input class=\"sk-toggleable__control sk-hidden--visually\" id=\"sk-estimator-id-1\" type=\"checkbox\" checked><label for=\"sk-estimator-id-1\" class=\"sk-toggleable__label sk-toggleable__label-arrow\">KNeighborsClassifier</label><div class=\"sk-toggleable__content\"><pre>KNeighborsClassifier(leaf_size=10, n_neighbors=1)</pre></div></div></div></div></div>"
      ],
      "text/plain": [
       "KNeighborsClassifier(leaf_size=10, n_neighbors=1)"
      ]
     },
     "execution_count": 14,
     "metadata": {},
     "output_type": "execute_result"
    }
   ],
   "source": [
    "knn_clf = KNeighborsClassifier(n_neighbors=1, leaf_size=10, p=2)\n",
    "knn_clf.fit(X_reduced, y_train)"
   ]
  },
  {
   "cell_type": "markdown",
   "metadata": {},
   "source": [
    "Für die Prediction wird hier die 'cross_val_predict' Funktion verwendet."
   ]
  },
  {
   "cell_type": "code",
   "execution_count": 15,
   "metadata": {},
   "outputs": [],
   "source": [
    "# Import notwendiger Bibliotheken\n",
    "from sklearn.metrics import f1_score, precision_recall_curve\n",
    "from sklearn.model_selection import cross_val_predict\n",
    "\"\"\"print(\"knn_clf.n_neigbors: \",knn_clf.n_neighbors)\"\"\"\n",
    "y_train_knn_pred = cross_val_predict(knn_clf, X_reduced, y_train, cv=6)"
   ]
  },
  {
   "cell_type": "markdown",
   "metadata": {},
   "source": [
    "## F1 Score\n",
    "\n",
    "Der F1 Score wird interpretiert als harmonisches Mittel aus 'Precision' und 'Recall'. Bester Wert bei 1 und schlechtester Wert bei 0 erreicht. Der relative Anteil von 'Precision' und 'Recall' zum F1 Score ist gleich.\n",
    "\n",
    "Gleichung: F1 = 2 * (precision * recall) / (precision + recall)\n",
    "\n",
    "Für den F1 Score schauen wir uns im Folgenden drei unterschiedliche Scores an mit den 'average'-Parametern 'micro', 'macro' und 'weighted'.\n",
    "\n",
    "#### average='micro':\n",
    "\n",
    "Berechnet Metriken global, indem die Gesamtzahl der Richtig positiven, Falsch negativen und Falsch positiven zählen.\n",
    "\n",
    "#### average='macro':\n",
    "\n",
    "Berechnet Metriken für jedes Label und ermittelt seinen Mittelwert.\n",
    "(This does not take label imbalance into account.)\n",
    "\n",
    "#### average='weighted':\n",
    "\n",
    "Berechnet Metriken für jedes Label. Im Gegensatz zum macro wird hier das Label Ungleichgewicht berücksichtigt."
   ]
  },
  {
   "cell_type": "code",
   "execution_count": 16,
   "metadata": {},
   "outputs": [
    {
     "name": "stdout",
     "output_type": "stream",
     "text": [
      "f1 score micro: 0.9704833333333334\n",
      "f1 score macro: 0.970176079161897\n",
      "f1 score weighted: 0.9704317275998035\n"
     ]
    }
   ],
   "source": [
    "t = f1_score(y_train, y_train_knn_pred, average='micro')\n",
    "print(\"f1 score micro:\",t)\n",
    "\n",
    "t = f1_score(y_train, y_train_knn_pred, average='macro')\n",
    "print(\"f1 score macro:\",t)\n",
    "\n",
    "t = f1_score(y_train, y_train_knn_pred, average='weighted')\n",
    "print(\"f1 score weighted:\",t)"
   ]
  },
  {
   "cell_type": "markdown",
   "metadata": {},
   "source": [
    "#### Fazit:\n",
    "Die F1 Scores liegen alle dicht beieinander. Dies bestätigt unsere Analyse zuvor bezüglich der homogenen Gleichverteilung der Ziffern von 0 bis 9 im gesamten Trainsadatensatz.\n",
    "\n",
    "## Erstellen eines Classification Reports\n",
    "Nun wird ein Classification Report erstellt mittels der vorgefertigten Funktion von Scikit-Learn. Hier werden somit für jede Ziffer von 0 bis 9 die Werte für Precision, Recall, F1-Score, Support und der Accuracy Wert angegeben."
   ]
  },
  {
   "cell_type": "code",
   "execution_count": 17,
   "metadata": {},
   "outputs": [
    {
     "name": "stdout",
     "output_type": "stream",
     "text": [
      "              precision    recall  f1-score   support\n",
      "\n",
      "           0       0.98      0.99      0.99      5923\n",
      "           1       0.97      0.99      0.98      6742\n",
      "           2       0.98      0.97      0.97      5958\n",
      "           3       0.97      0.96      0.96      6131\n",
      "           4       0.97      0.96      0.97      5842\n",
      "           5       0.96      0.96      0.96      5421\n",
      "           6       0.98      0.99      0.98      5918\n",
      "           7       0.96      0.98      0.97      6265\n",
      "           8       0.98      0.94      0.96      5851\n",
      "           9       0.95      0.96      0.95      5949\n",
      "\n",
      "    accuracy                           0.97     60000\n",
      "   macro avg       0.97      0.97      0.97     60000\n",
      "weighted avg       0.97      0.97      0.97     60000\n",
      "\n"
     ]
    }
   ],
   "source": [
    "# Import notwendiger Bibliotheken\n",
    "from sklearn.metrics import classification_report\n",
    "\n",
    "print(classification_report(y_train, y_train_knn_pred))"
   ]
  },
  {
   "cell_type": "markdown",
   "metadata": {},
   "source": [
    "In diesem Notebook wurde mittels des kNN Klassifikators ein Score von 97 % auf den MNIST Datensatz erzielt. Dieser könnte durch weitere Anpassungen auch optimiert werden.\n",
    "\n",
    "Auf der Website vom Prof. Yann LeCun finden Sie auch eine tabellarische Auflistungen von Benchmarks zu diversen Algorithmen die auf diesen Datensatz angewandt wurden."
   ]
  },
  {
   "cell_type": "code",
   "execution_count": 24,
   "metadata": {},
   "outputs": [
    {
     "name": "stdout",
     "output_type": "stream",
     "text": [
      "predicted: [8]  label: 8\n"
     ]
    },
    {
     "data": {
      "text/plain": [
       "<matplotlib.image.AxesImage at 0x1b336968ee0>"
      ]
     },
     "execution_count": 24,
     "metadata": {},
     "output_type": "execute_result"
    },
    {
     "data": {
      "image/png": "[encoded data removed]",
      "text/plain": [
       "<Figure size 432x288 with 1 Axes>"
      ]
     },
     "metadata": {
      "needs_background": "light"
     },
     "output_type": "display_data"
    }
   ],
   "source": [
    "print(\"predicted:\",knn_clf.predict([X_reduced[59505]]),\" label:\",y_train[59505])\n",
    "\n",
    "predicted_image = X_train[59505]\n",
    "predicted_image_reshaped = predicted_image.reshape(28, 28)\n",
    "plt.imshow(predicted_image_reshaped, cmap='binary')"
   ]
  }
 ],
 "metadata": {
  "kernelspec": {
   "display_name": "Python 3.10.5 64-bit",
   "language": "python",
   "name": "python3"
  },
  "language_info": {
   "codemirror_mode": {
    "name": "ipython",
    "version": 3
   },
   "file_extension": ".py",
   "mimetype": "text/x-python",
   "name": "python",
   "nbconvert_exporter": "python",
   "pygments_lexer": "ipython3",
   "version": "3.10.5"
  },
  "orig_nbformat": 4,
  "vscode": {
   "interpreter": {
    "hash": "ef4799250bd50d126f8d5e0e9d063fc81378f9b5e50106d7a59d6166a259fd50"
   }
  }
 },
 "nbformat": 4,
 "nbformat_minor": 2
}
