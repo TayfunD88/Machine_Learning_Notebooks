{
 "cells": [
  {
   "cell_type": "markdown",
   "metadata": {},
   "source": [
    "# KNeighborsClassifier\n",
    "\n",
    "Dieses Notebook beschäftigt sich mit dem Klassifikator, der das Votum für 'k-nearest neighbors' implementiert. Angewandt wird dieser Algorithmus auf den MNIST Datensatz, welcher in Summer aus 70.000 handgeschriebenen Ziffern von 0 bis 9 besteht. Diese Bilder sind jeweils in einem 28x28 Pixelformat hinterlegt.\n",
    "\n",
    "Der Datensatz wird über die Website vom Prof. Yann LeCun bereitgestellt. Zusätzlich findet ihr dort Anweisungen, wie sein custom-file-format 'ubyte' gelesen werden kann.\n",
    "http://yann.lecun.com/exdb/mnist/\n",
    "\n",
    "Der Datensatz wird gesplittet in 60.000 Trainingsdaten und 10.000 Testdaten.\n",
    "\n",
    "## Lesen des MNIST Datensatzes"
   ]
  },
  {
   "cell_type": "code",
   "execution_count": 3,
   "metadata": {},
   "outputs": [],
   "source": [
    "import numpy as np\n",
    "import requests\n",
    "import gzip\n",
    "import os\n",
    "import hashlib\n",
    "\n",
    "# Fetch data function (Function to read/write external data like MNIST dataset)\n",
    "def fetch(file_name):\n",
    "  if os.path.isfile(file_name):\n",
    "    with open(file_name, \"rb\") as f:\n",
    "      dat = f.read()\n",
    "  else:\n",
    "    with open(file_name, \"wb\") as f:\n",
    "      dat = requests.get(file_name).content\n",
    "      f.write(dat)\n",
    "  return np.frombuffer(gzip.decompress(dat), dtype=np.uint8).copy()"
   ]
  },
  {
   "cell_type": "code",
   "execution_count": 4,
   "metadata": {},
   "outputs": [],
   "source": [
    "# Read MNIST Dataset\n",
    "# MNIST dataset consists of four files\n",
    "mnist_files = {\n",
    "\t0 : \"train-images-idx3-ubyte.gz\",\t# large train set images  \t60.000 img\n",
    "\t1 : \"train-labels-idx1-ubyte.gz\",\t# large label set \t\t\t60.008 lbl\n",
    "\t2 : \"t10k-images-idx3-ubyte.gz\",\t# small train set images\t10.000 img\n",
    "\t3 : \"t10k-labels-idx1-ubyte.gz\"\t\t# small label set\t\t\t10.008 lbl\n",
    "\t}\n",
    "\n",
    "# All data will be written in X_and_Y in first place\n",
    "X_and_y = []\n",
    "\n",
    "# Reading MNIST dataset\n",
    "for i, file in mnist_files.items():\n",
    "\tif i == 0 or i == 2:\n",
    "\t\tX_and_y.append(i)\n",
    "\t\t# [0x10:] 5th bit set\n",
    "\t\t# https://stackoverflow.com/questions/16405354/python-confused-by-if-statement-if-bits0x20-0x20\n",
    "\t\t# Reshape\n",
    "\t\t# Each image consists of 784 pixels\n",
    "\t\t# \t=> 28 pixels in x-axis and 28 pixels in y-axis \n",
    "\t\tX_and_y[i] = fetch(file)[0x10:].reshape((-1, 784))\n",
    "\telse:\n",
    "\t\tX_and_y.append(i)\n",
    "\t\t# Reducing the dataset from 60.008/10.008 to flat 60.000/10.000\n",
    "\t\t# The first lines are irrelevant due to the documentation from Lecun\n",
    "\t\tX_and_y[i] = fetch(file)[8:]\n",
    "\n",
    "# Generate four variables\n",
    "X_train, y_train, X_test, y_test = X_and_y"
   ]
  }
 ],
 "metadata": {
  "kernelspec": {
   "display_name": "Python 3.10.5 64-bit",
   "language": "python",
   "name": "python3"
  },
  "language_info": {
   "codemirror_mode": {
    "name": "ipython",
    "version": 3
   },
   "file_extension": ".py",
   "mimetype": "text/x-python",
   "name": "python",
   "nbconvert_exporter": "python",
   "pygments_lexer": "ipython3",
   "version": "3.10.5"
  },
  "orig_nbformat": 4,
  "vscode": {
   "interpreter": {
    "hash": "ef4799250bd50d126f8d5e0e9d063fc81378f9b5e50106d7a59d6166a259fd50"
   }
  }
 },
 "nbformat": 4,
 "nbformat_minor": 2
}
