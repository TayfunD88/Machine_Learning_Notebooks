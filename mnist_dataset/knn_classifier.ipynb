{
 "cells": [
  {
   "cell_type": "markdown",
   "metadata": {},
   "source": [
    "# KNeighborsClassifier\n",
    "\n",
    "Dieses Notebook beschäftigt sich mit dem Klassifikator, der das Votum für 'k-nearest neighbors' implementiert. "
   ]
  },
  {
   "cell_type": "code",
   "execution_count": null,
   "metadata": {},
   "outputs": [],
   "source": []
  }
 ],
 "metadata": {
  "kernelspec": {
   "display_name": "Python 3.10.5 64-bit",
   "language": "python",
   "name": "python3"
  },
  "language_info": {
   "name": "python",
   "version": "3.10.5"
  },
  "orig_nbformat": 4,
  "vscode": {
   "interpreter": {
    "hash": "ef4799250bd50d126f8d5e0e9d063fc81378f9b5e50106d7a59d6166a259fd50"
   }
  }
 },
 "nbformat": 4,
 "nbformat_minor": 2
}
